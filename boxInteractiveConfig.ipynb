{
 "cells": [
  {
   "cell_type": "markdown",
   "metadata": {},
   "source": [
    "### Box Interactive Config\n",
    "\n",
    "* data coming from the box is used by the **ISI_Dashboard** for realtime visualization of variables that are important to the experimenter. \n",
    "* here we construct messages that are sent interactively to the box over the instrument loop.\n",
    "* we can manipulate these messages inorder to test and change the function of the **ISI_Dashboard**\n",
    "\n",
    "### MockBox usage description: \n",
    "\n",
    "1. a client connects to the MockBox server\n",
    "2. the MockBox Server sends a message to the client asking for it's \"ID_REQ\"\n",
    "    1. this happens once and only once\n",
    "3. if the \"ID_REQ\" == 1, then the client subscribes to JSON messages indefinitely.\n",
    "\n",
    "### run the server\n",
    "\n",
    "* to initiate and run the server, run the designated cell"
   ]
  },
  {
   "cell_type": "markdown",
   "metadata": {},
   "source": [
    "#### stimulation system architecture\n",
    "\n",
    "* stim_req_packets are sent in, at whatever frequency (could be 1khz)\n",
    "* each time a packet is recieved, it overwrites a dictionary in memory which requests \n",
    "\n",
    "\n",
    "#### there is not 1 message, but a set of messages types that a logger subscribes to. These are: \n",
    "\n",
    "stim_event_json \n",
    "stim_ack_json\n",
    "stim_req_json\n",
    "soh_json\n",
    "\n",
    "ID_REQ\n",
    "\n",
    "#### all of these messages have the following structure.\n",
    "\n",
    "{\n",
    "\"client_ip\": str\n",
    "\"client_id\": int OR \"N/A\"\n",
    "\"msg_type\": str\n",
    "\"msg\": str - sometimes JSON structured\n",
    "}\n",
    "\n",
    "this facilitates handling of different behaviors for different message types by first reading the 'msg_type' parameter.\n",
    "\n",
    "\n",
    "#### understanding how electrode arrays are indexed:\n",
    "\n",
    "arrays are indexed by a single number, either 1-32 or 129 - 161\n",
    "1-32 is the first set of electrodes,  129-161 is the second\n",
    "electrode arrays are numbered from top to bottom, and from left to right\n",
    "so bottom left corner is 1,one to the right is 9, etc. \n",
    "you can figure out if this is something you want ot modify, or just stick with it.\n",
    "\n",
    "\n",
    "#### how the stim packets are organized\n",
    "\n",
    "within the stim_event_json packet's msg we have:\n",
    "\n",
    "{\n",
    "elecCath: int OR list of ints,\n",
    "elecAno: int OR list of ints,\n",
    "amp: int,\n",
    "freq: int,\n",
    "pulseWidth: int,\n",
    "isContinuous: int\n",
    "} \n",
    "\n",
    "the state of the ground and reference nodes are trickled back through the SOH.\n",
    "\n",
    "\n",
    "#### \n",
    "\n",
    "* there is no state stored on the box\n",
    "* multiple stim packets can be appended to the stim_req_json, these multiple packets constitute the full state configuration of the box, minus the ground configuration packets.\n",
    "* ground and reference can be viewed in the state of health, but the \n",
    "* stim_req_packet contains the full anode.\n",
    "\n",
    "\n",
    "\n",
    "#### more notes:\n",
    "\n",
    "* the box won't trickle back the json to the logger that I need unless stim sequences are actually sent. \n",
    "* everything that I will need from a graphing perspective will come through my connection to the logger (except for DJ stuff, which is it's own webserver)\n",
    "\n",
    " "
   ]
  },
  {
   "cell_type": "markdown",
   "metadata": {},
   "source": [
    "### configure messages that will be sent to the box"
   ]
  },
  {
   "cell_type": "code",
   "execution_count": 39,
   "metadata": {},
   "outputs": [],
   "source": [
    "# configure ground electrodes\n",
    "refs = {}\n",
    "refs['ground']   = [30, 160]\n",
    "refs['reference'] = [31,144]  \n",
    "\n",
    "# configure stim packet\n",
    "sd1 = {}\n",
    "sd1[\"elecCath\"] = [1,12]\n",
    "sd1[\"elecAno\"] = [3,4]\n",
    "sd1[\"amp\"] = 300\n",
    "sd1[\"freq\"] = 20 \n",
    "sd1[\"pulseWidth\"] = 100 \n",
    "sd1[\"isContinuous\"] = 0\n",
    "\n",
    "sd2 = {}\n",
    "sd2[\"elecCath\"] = [7,8]\n",
    "sd2[\"elecAno\"] = [9,10]\n",
    "sd2[\"amp\"] = 200\n",
    "sd2[\"freq\"] = 30\n",
    "sd2[\"pulseWidth\"] = 150 \n",
    "sd2[\"isContinuous\"] = 0\n",
    "\n",
    "#stim clear dictionary\n",
    "sdc = {}\n",
    "sdc[\"elecCath\"] = []\n",
    "sdc[\"elecAno\"] = []\n",
    "sdc[\"amp\"] = 0\n",
    "sdc[\"freq\"] = 20 \n",
    "sdc[\"pulseWidth\"] = 100 \n",
    "sdc[\"isContinuous\"] = 0\n",
    "\n",
    "stimPacket = [sd1, sd2]\n",
    "Clear = False \n",
    "if Clear:\n",
    "    stimPacket = [sdc]\n",
    "\n",
    "\n",
    "\n"
   ]
  },
  {
   "cell_type": "markdown",
   "metadata": {},
   "source": [
    "### Send packets to Box"
   ]
  },
  {
   "cell_type": "code",
   "execution_count": 27,
   "metadata": {},
   "outputs": [
    {
     "data": {
      "text/plain": [
       "<Task pending name='Task-34' coro=<SendStim() running at C:\\Users\\adawsone\\AppData\\Local\\Temp\\ipykernel_14296\\4056229336.py:5>>"
      ]
     },
     "execution_count": 27,
     "metadata": {},
     "output_type": "execute_result"
    },
    {
     "name": "stdout",
     "output_type": "stream",
     "text": [
      "connected Successfully as stim\n"
     ]
    }
   ],
   "source": [
    "import websockets\n",
    "import asyncio\n",
    "import json\n",
    "\n",
    "async def SendStim():\n",
    "    # ip_addr = \"192.168.42.1\"\n",
    "    ip_addr = \"192.168.42.150\"\n",
    "    port = \"7890\"\n",
    "    url = \"ws://\" + ip_addr + \":\" + port\n",
    "\n",
    "    async with websockets.connect(url,ping_timeout=None) as ws:\n",
    "        # connect and provide ID - determine the class of listener.\n",
    "        while True:                                     # ID check loop\n",
    "            msg = await ws.recv()                       # Non-blocking, waits for a new message to arrive from the server\n",
    "            if msg == \"ID_REQ\":                         # If the message is an ID Request\n",
    "                my_client_id = 11                        # Fetch this client's ID, in this case it's hardcoded\n",
    "                await ws.send(str(my_client_id))        # Non-blocking, sends the client ID\n",
    "                print(\"connected Successfully as stim\")\n",
    "                break                                   # out of ID check loop\n",
    "        while True: \n",
    "            await ws.send(json.dumps(refs))\n",
    "            await ws.send(json.dumps(stimPacket))\n",
    "            await asyncio.sleep(1)\n",
    "\n",
    "\n",
    "loop = asyncio.get_event_loop()\n",
    "serverTask = loop.create_task(SendStim())\n",
    "serverTask"
   ]
  },
  {
   "cell_type": "markdown",
   "metadata": {},
   "source": [
    "### Cancel the server\n",
    "\n",
    "* run the cell below to cancel the server task"
   ]
  },
  {
   "cell_type": "code",
   "execution_count": 25,
   "metadata": {},
   "outputs": [
    {
     "data": {
      "text/plain": [
       "False"
      ]
     },
     "execution_count": 25,
     "metadata": {},
     "output_type": "execute_result"
    }
   ],
   "source": [
    "serverTask.cancel()"
   ]
  },
  {
   "cell_type": "code",
   "execution_count": 13,
   "metadata": {},
   "outputs": [
    {
     "data": {
      "text/plain": [
       "[{'elecCath': [1, 12],\n",
       "  'elecAno': [3, 4],\n",
       "  'amp': 300,\n",
       "  'freq': 20,\n",
       "  'pulseWidth': 100,\n",
       "  'isContinuous': 0},\n",
       " {'elecCath': [7, 8],\n",
       "  'elecAno': [9, 10],\n",
       "  'amp': 200,\n",
       "  'freq': 30,\n",
       "  'pulseWidth': 150,\n",
       "  'isContinuous': 0}]"
      ]
     },
     "execution_count": 13,
     "metadata": {},
     "output_type": "execute_result"
    }
   ],
   "source": [
    "stimPacket"
   ]
  },
  {
   "cell_type": "code",
   "execution_count": 11,
   "metadata": {},
   "outputs": [
    {
     "data": {
      "text/plain": [
       "<Task pending name='Task-16' coro=<listen() running at C:\\Users\\adawsone\\AppData\\Local\\Temp\\ipykernel_25540\\3157368762.py:11>>"
      ]
     },
     "execution_count": 11,
     "metadata": {},
     "output_type": "execute_result"
    }
   ],
   "source": [
    "import websockets\n",
    "import asyncio\n",
    "import json\n",
    "\n",
    "class Storage:\n",
    "    def __init__(self):\n",
    "        self.msg = \"\"\n",
    "\n",
    "storage = Storage()\n",
    "\n",
    "async def listen():\n",
    "    ip_addr = \"192.168.42.1\"\n",
    "    port = \"7890\"\n",
    "    url = \"ws://\" + ip_addr + \":\" + port\n",
    "\n",
    "    async with websockets.connect(url) as ws:\n",
    "        # connect and provide ID - determine the class of listener.\n",
    "        while True:                                     # ID check loop\n",
    "            msg = await ws.recv()                       # Non-blocking, waits for a new message to arrive from the server\n",
    "            if msg == \"ID_REQ\":                         # If the message is an ID Request\n",
    "                my_client_id = 1                        # Fetch this client's ID, in this case it's hardcoded\n",
    "                await ws.send(str(my_client_id))        # Non-blocking, sends the client ID\n",
    "                print(\"connected Successfully as logger\")\n",
    "                break                                   # out of ID check loop\n",
    "        \n",
    "        #read a single message then break\n",
    "        while True:\n",
    "            msg = await ws.recv()                       # Non-blocking, waits for a new message to arrive from the server\n",
    "            storage.msg = msg\n",
    "            break\n",
    "        #await ws.close()\n",
    "\n",
    "\n",
    "#entrypoint\n",
    "#await main()\n",
    "loop = asyncio.get_event_loop()\n",
    "serverTask = loop.create_task(listen())\n",
    "serverTask"
   ]
  },
  {
   "cell_type": "code",
   "execution_count": 15,
   "metadata": {},
   "outputs": [
    {
     "data": {
      "text/plain": [
       "False"
      ]
     },
     "execution_count": 15,
     "metadata": {},
     "output_type": "execute_result"
    }
   ],
   "source": [
    "serverTask.cancel()"
   ]
  },
  {
   "cell_type": "markdown",
   "metadata": {},
   "source": [
    "### scratchpad"
   ]
  },
  {
   "cell_type": "code",
   "execution_count": 3,
   "metadata": {},
   "outputs": [],
   "source": [
    "import numpy as np\n",
    "ppm = np.array([[ 8 , 16 , 24 , 32 ],\n",
    "                [ 7 , 15 , 23 , 31 ],\n",
    "                [ 6 , 14 , 22 , 30 ],\n",
    "                [ 5 , 13 , 21 , 29 ],\n",
    "                [ 4 , 12 , 20 , 28 ],\n",
    "                [ 3 , 11 , 19 , 27 ],\n",
    "                [ 2 , 10 , 18 , 26 ],\n",
    "                [ 1 ,  9 , 17 , 25 ]])"
   ]
  },
  {
   "cell_type": "code",
   "execution_count": 15,
   "metadata": {},
   "outputs": [
    {
     "data": {
      "text/plain": [
       "[array([0, 0, 0, 0]),\n",
       " array([1, 1, 1, 1]),\n",
       " array([2, 2, 2, 2]),\n",
       " array([3, 3, 3, 3]),\n",
       " array([4, 4, 4, 4]),\n",
       " array([5, 5, 5, 5]),\n",
       " array([6, 6, 6, 6]),\n",
       " array([7, 7, 7, 7])]"
      ]
     },
     "execution_count": 15,
     "metadata": {},
     "output_type": "execute_result"
    }
   ],
   "source": [
    "pmap = map(lambda a :  7 - ((a-1) % 8),ppm)\n",
    "list(pmap)"
   ]
  },
  {
   "cell_type": "code",
   "execution_count": 13,
   "metadata": {},
   "outputs": [
    {
     "data": {
      "text/plain": [
       "[array([0., 1., 2., 3.]),\n",
       " array([0., 1., 2., 3.]),\n",
       " array([0., 1., 2., 3.]),\n",
       " array([0., 1., 2., 3.]),\n",
       " array([0., 1., 2., 3.]),\n",
       " array([0., 1., 2., 3.]),\n",
       " array([0., 1., 2., 3.]),\n",
       " array([0., 1., 2., 3.])]"
      ]
     },
     "execution_count": 13,
     "metadata": {},
     "output_type": "execute_result"
    }
   ],
   "source": [
    "pmap = map(lambda a : np.floor((a-1) / 8),ppm)\n",
    "list(pmap)"
   ]
  }
 ],
 "metadata": {
  "kernelspec": {
   "display_name": "ISI",
   "language": "python",
   "name": "python3"
  },
  "language_info": {
   "codemirror_mode": {
    "name": "ipython",
    "version": 3
   },
   "file_extension": ".py",
   "mimetype": "text/x-python",
   "name": "python",
   "nbconvert_exporter": "python",
   "pygments_lexer": "ipython3",
   "version": "3.11.3"
  },
  "orig_nbformat": 4
 },
 "nbformat": 4,
 "nbformat_minor": 2
}
