{
 "cells": [
  {
   "cell_type": "markdown",
   "id": "29c248f0",
   "metadata": {},
   "source": [
    "### goals :\n",
    "\n",
    "* the ISI team want to know if segments can be more robust than looking at individual markers\n",
    "* to test this we will develop a small app which talks to the vicon API, and view the angle, as well as the fraction of the time packets are dropped. \n",
    "* maybe Ice this project if we are going with the goniometer??"
   ]
  },
  {
   "cell_type": "code",
   "execution_count": null,
   "id": "4674fe9a",
   "metadata": {},
   "outputs": [],
   "source": []
  }
 ],
 "metadata": {
  "kernelspec": {
   "display_name": "Python 3 (ipykernel)",
   "language": "python",
   "name": "python3"
  },
  "language_info": {
   "codemirror_mode": {
    "name": "ipython",
    "version": 3
   },
   "file_extension": ".py",
   "mimetype": "text/x-python",
   "name": "python",
   "nbconvert_exporter": "python",
   "pygments_lexer": "ipython3",
   "version": "3.11.3"
  }
 },
 "nbformat": 4,
 "nbformat_minor": 5
}
