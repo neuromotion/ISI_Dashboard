{
 "cells": [
  {
   "cell_type": "markdown",
   "metadata": {},
   "source": [
    "### serveMockBox\n",
    "\n",
    "* data coming from the box is used by the **ISI_Dashboard** for realtime visualization of variables that are important to the experimenter. \n",
    "* here we serve a Mock of the box over localhost, that we can manipulate inorder to test and change the function of the **ISI_Dashboard**\n",
    "\n",
    "### MockBox usage description: \n",
    "\n",
    "1. a client connects to the MockBox server\n",
    "2. the MockBox Server sends a message to the client asking for it's \"ID_REQ\"\n",
    "    1. this happens once and only once\n",
    "3. if the \"ID_REQ\" == 1, then the client subscribes to JSON messages indefinitely.\n",
    "\n",
    "### run the server\n",
    "\n",
    "* to initiate and run the server, run the designated cell"
   ]
  },
  {
   "cell_type": "markdown",
   "metadata": {},
   "source": [
    "#### stimulation system architecture\n",
    "\n",
    "* stim_req_packets are sent in, at whatever frequency (could be 1khz)\n",
    "* each time a packet is recieved, it overwrites a dictionary in memory which requests \n",
    "\n",
    "\n",
    "#### there is not 1 message, but a set of messages types that a logger subscribes to. These are: \n",
    "\n",
    "stim_event_json \n",
    "stim_ack_json\n",
    "stim_req_json\n",
    "soh_json\n",
    "\n",
    "ID_REQ\n",
    "\n",
    "#### all of these messages have the following structure.\n",
    "\n",
    "{\n",
    "\"client_ip\": str\n",
    "\"client_id\": int OR \"N/A\"\n",
    "\"msg_type\": str\n",
    "\"msg\": str - sometimes JSON structured\n",
    "}\n",
    "\n",
    "this facilitates handling of different behaviors for different message types by first reading the 'msg_type' parameter.\n",
    "\n",
    "\n",
    "#### understanding how electrode arrays are indexed:\n",
    "\n",
    "arrays are indexed by a single number, either 1-32 or 129 - 161\n",
    "1-32 is the first set of electrodes,  129-161 is the second\n",
    "electrode arrays are numbered from top to bottom, and from left to right\n",
    "so bottom left corner is 1,one to the right is 9, etc. \n",
    "you can figure out if this is something you want ot modify, or just stick with it.\n",
    "\n",
    "\n",
    "#### how the stim packets are organized\n",
    "\n",
    "within the stim_event_json packet's msg we have:\n",
    "\n",
    "{\n",
    "elecCath: int OR list of ints,\n",
    "elecAno: int OR list of ints,\n",
    "amp: int,\n",
    "freq: int,\n",
    "pulseWidth: int,\n",
    "isContinuous: int\n",
    "} \n",
    "\n",
    "the state of the ground and reference nodes are trickled back through the SOH.\n",
    "\n",
    "\n",
    "#### \n",
    "\n",
    "* there is no state stored on the box\n",
    "* multiple stim packets can be appended to the stim_req_json, these multiple packets constitute the full state configuration of the box, minus the ground configuration packets.\n",
    "* ground and reference can be viewed in the state of health, but the \n",
    "* stim_req_packet contains the full anode.\n",
    "\n",
    "\n",
    "\n",
    "#### more notes:\n",
    "\n",
    "* the box won't trickle back the json to the logger that I need unless stim sequences are actually sent. \n",
    "* everything that I will need from a graphing perspective will come through my connection to the logger (except for DJ stuff, which is it's own webserver)\n",
    "\n",
    " "
   ]
  },
  {
   "cell_type": "code",
   "execution_count": null,
   "metadata": {},
   "outputs": [],
   "source": [
    "# minimal definition of State of Health packet\n",
    "soh_msg = {}\n",
    "soh_msg['msg'] = {}\n",
    "soh_msg['msg']['stimResCaud'] = 10        # future?\n",
    "soh_msg['msg']['stimResRost'] = 10        # future?\n",
    "soh_msg['msg']['xipStimResCaud'] = 10     # future?\n",
    "soh_msg['msg']['xipStimResRost'] = 10     # future?\n",
    "soh_msg['msg']['gnd'] = [1,2]             # define which electrodes are ground electrodes\n",
    "soh_msg['msg']['ref'] = [3,4]             # define which electrodes are reference electrodes\n",
    "soh_msg['msg']['aspectRatio'] = 3         # define the stimulation aspect ratio\n",
    "\n",
    "\n",
    "# minimal definition of a stim event packets\n",
    "stim_event_msg  = {}\n",
    "stim_event_msg['msg'] = {}\n",
    "stim_event_msg['msg']['elecCath'] = [31,133]\n",
    "stim_event_msg['msg']['elecAno'] =  [15,130]\n",
    "st\n",
    "\n",
    "\n",
    "{\n",
    "elecCath: int OR list of ints,\n",
    "elecAno: int OR list of ints,\n",
    "amp: int,\n",
    "freq: int,\n",
    "pulseWidth: int,\n",
    "isContinuous: int\n",
    "} \n"
   ]
  },
  {
   "cell_type": "code",
   "execution_count": null,
   "metadata": {},
   "outputs": [],
   "source": [
    "##!/usr/bin/env python\n",
    "import asyncio\n",
    "import websockets\n",
    "import json\n",
    "\n",
    "# define some global parameters.end\n",
    "msgFreq = 5 #[Hz] frequency that our message is sent\n",
    "\n",
    "#connection event handler\n",
    "async def handler(websocket):\n",
    "    #ID_REQ handshake\n",
    "    await websocket.send(\"ID_REQ\")     # ask the client for their ID status\n",
    "    while True:\n",
    "        message = await websocket.recv()\n",
    "        if message == \"1\":\n",
    "            break\n",
    "    \n",
    "    #subscribe client to the message stream at regular intervals\n",
    "    while True: \n",
    "        await asyncio.sleep(1/msgFreq)\n",
    "        await websocket.send(json.dumps(soh_msg)) \n",
    "\n",
    "\n",
    "#serve\n",
    "async def main():\n",
    "    async with websockets.serve(handler, \"\", 7890):\n",
    "        await asyncio.Future()  # run forever\n",
    "\n",
    "#entrypoint\n",
    "#await main()\n",
    "loop = asyncio.get_event_loop()\n",
    "serverTask = loop.create_task(main())\n",
    "serverTask"
   ]
  },
  {
   "cell_type": "markdown",
   "metadata": {},
   "source": [
    "### Cancel the server\n",
    "\n",
    "* run the cell below to cancel the server task"
   ]
  },
  {
   "cell_type": "code",
   "execution_count": null,
   "metadata": {},
   "outputs": [],
   "source": [
    "serverTask.cancel()"
   ]
  },
  {
   "cell_type": "markdown",
   "metadata": {},
   "source": [
    "### Manual Modification of logging packets for interactive testing\n",
    "\n",
    "* modify the message fields here to change the frontend behavior."
   ]
  },
  {
   "cell_type": "code",
   "execution_count": null,
   "metadata": {},
   "outputs": [],
   "source": []
  },
  {
   "cell_type": "code",
   "execution_count": 1,
   "metadata": {},
   "outputs": [
    {
     "data": {
      "text/plain": [
       "<Task pending name='Task-4' coro=<listen() running at C:\\Users\\adawsone\\AppData\\Local\\Temp\\ipykernel_14924\\3521875238.py:11>>"
      ]
     },
     "execution_count": 1,
     "metadata": {},
     "output_type": "execute_result"
    },
    {
     "name": "stdout",
     "output_type": "stream",
     "text": [
      "connected Successfully as logger\n"
     ]
    }
   ],
   "source": [
    "import websockets\n",
    "import asyncio\n",
    "import json\n",
    "\n",
    "class Storage:\n",
    "    def __init__(self):\n",
    "        self.msg = \"\"\n",
    "\n",
    "storage = Storage()\n",
    "\n",
    "async def listen():\n",
    "    ip_addr = \"192.168.42.1\"\n",
    "    port = \"7890\"\n",
    "    url = \"ws://\" + ip_addr + \":\" + port\n",
    "\n",
    "    async with websockets.connect(url) as ws:\n",
    "        # connect and provide ID - determine the class of listener.\n",
    "        while True:                                     # ID check loop\n",
    "            msg = await ws.recv()                       # Non-blocking, waits for a new message to arrive from the server\n",
    "            if msg == \"ID_REQ\":                         # If the message is an ID Request\n",
    "                my_client_id = 1                        # Fetch this client's ID, in this case it's hardcoded\n",
    "                await ws.send(str(my_client_id))        # Non-blocking, sends the client ID\n",
    "                print(\"connected Successfully as logger\")\n",
    "                break                                   # out of ID check loop\n",
    "        \n",
    "        #read a single message then break\n",
    "        while True:\n",
    "            msg = await ws.recv()                       # Non-blocking, waits for a new message to arrive from the server\n",
    "            storage.msg = msg\n",
    "            break\n",
    "        #await ws.close()\n",
    "\n",
    "\n",
    "#entrypoint\n",
    "#await main()\n",
    "loop = asyncio.get_event_loop()\n",
    "serverTask = loop.create_task(listen())\n",
    "serverTask"
   ]
  },
  {
   "cell_type": "code",
   "execution_count": null,
   "metadata": {},
   "outputs": [],
   "source": [
    "serverTask.cancel()"
   ]
  },
  {
   "cell_type": "code",
   "execution_count": 15,
   "metadata": {},
   "outputs": [
    {
     "data": {
      "text/plain": [
       "'{\\n    \"client_ip\": \"192.168.42.1\",\\n    \"client_id\": 0,\\n    \"msg_type\": \"soh_json\",\\n    \"msg\": \"{\\\\n    \\\\\"curTime_ns\\\\\": 9531884090133,\\\\n    \\\\\"unixTime\\\\\": 1686405411.3700488,\\\\n    \\\\\"nipTime_30k\\\\\": 278285310,\\\\n    \\\\\"connectedLoggers\\\\\": [\\\\n        \\\\\"192.168.42.156\\\\\"\\\\n    ],\\\\n    \\\\\"connectedReadOnly\\\\\": [\\\\n        \\\\\"192.168.42.156\\\\\"\\\\n    ],\\\\n    \\\\\"connectedReadWrite\\\\\": [\\\\n        \\\\\"192.168.42.156\\\\\",\\\\n        \\\\\"192.168.42.156\\\\\"\\\\n    ],\\\\n    \\\\\"stimResCaud\\\\\": 10,\\\\n    \\\\\"stimResRost\\\\\": 10,\\\\n    \\\\\"xipStimResCaud\\\\\": 0,\\\\n    \\\\\"xipStimResRost\\\\\": [],\\\\n    \\\\\"gnd\\\\\": [],\\\\n    \\\\\"ref\\\\\": [],\\\\n    \\\\\"aspectRatio\\\\\": 3\\\\n}\"\\n}'"
      ]
     },
     "execution_count": 15,
     "metadata": {},
     "output_type": "execute_result"
    }
   ],
   "source": [
    "storage.msg"
   ]
  },
  {
   "cell_type": "code",
   "execution_count": 12,
   "metadata": {},
   "outputs": [],
   "source": [
    "msgDict = json.loads(storage.msg)\n",
    "msgDict['msg'] = json.loads(msgDict['msg'])"
   ]
  },
  {
   "cell_type": "code",
   "execution_count": 13,
   "metadata": {},
   "outputs": [
    {
     "data": {
      "text/plain": [
       "'{\"client_ip\": \"192.168.42.1\", \"client_id\": 0, \"msg_type\": \"soh_json\", \"msg\": {\"curTime_ns\": 9531884090133, \"unixTime\": 1686405411.3700488, \"nipTime_30k\": 278285310, \"connectedLoggers\": [\"192.168.42.156\"], \"connectedReadOnly\": [\"192.168.42.156\"], \"connectedReadWrite\": [\"192.168.42.156\", \"192.168.42.156\"], \"stimResCaud\": 10, \"stimResRost\": 10, \"xipStimResCaud\": 0, \"xipStimResRost\": [], \"gnd\": [], \"ref\": [], \"aspectRatio\": 3}}'"
      ]
     },
     "execution_count": 13,
     "metadata": {},
     "output_type": "execute_result"
    }
   ],
   "source": [
    "json.dumps(msgDict)"
   ]
  },
  {
   "cell_type": "code",
   "execution_count": 9,
   "metadata": {},
   "outputs": [
    {
     "name": "stdout",
     "output_type": "stream",
     "text": [
      "{'client_ip': '192.168.42.1', 'client_id': 0, 'msg_type': 'soh_json', 'msg': '{\\n    \"curTime_ns\": 9531884090133,\\n    \"unixTime\": 1686405411.3700488,\\n    \"nipTime_30k\": 278285310,\\n    \"connectedLoggers\": [\\n        \"192.168.42.156\"\\n    ],\\n    \"connectedReadOnly\": [\\n        \"192.168.42.156\"\\n    ],\\n    \"connectedReadWrite\": [\\n        \"192.168.42.156\",\\n        \"192.168.42.156\"\\n    ],\\n    \"stimResCaud\": 10,\\n    \"stimResRost\": 10,\\n    \"xipStimResCaud\": 0,\\n    \"xipStimResRost\": [],\\n    \"gnd\": [],\\n    \"ref\": [],\\n    \"aspectRatio\": 3\\n}'}\n"
     ]
    }
   ],
   "source": [
    "print(msgDict)"
   ]
  },
  {
   "cell_type": "code",
   "execution_count": null,
   "metadata": {},
   "outputs": [],
   "source": []
  }
 ],
 "metadata": {
  "kernelspec": {
   "display_name": "ISI",
   "language": "python",
   "name": "python3"
  },
  "language_info": {
   "codemirror_mode": {
    "name": "ipython",
    "version": 3
   },
   "file_extension": ".py",
   "mimetype": "text/x-python",
   "name": "python",
   "nbconvert_exporter": "python",
   "pygments_lexer": "ipython3",
   "version": "3.11.3"
  },
  "orig_nbformat": 4
 },
 "nbformat": 4,
 "nbformat_minor": 2
}
