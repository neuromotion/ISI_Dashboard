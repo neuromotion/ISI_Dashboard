{
 "cells": [
  {
   "cell_type": "markdown",
   "id": "20da7727",
   "metadata": {},
   "source": [
    "### Up and Talking on the Instrumentation Loop\n",
    "\n",
    "* in this notebook, I'll be writing some code to talk to the instrumentation loop and request state of health information from the ripple hardware, AKA \"the box\" "
   ]
  },
  {
   "cell_type": "code",
   "execution_count": 4,
   "id": "a7a5cedd",
   "metadata": {},
   "outputs": [
    {
     "data": {
      "text/plain": [
       "<coroutine object listen at 0x000001EDD5BC20E0>"
      ]
     },
     "execution_count": 4,
     "metadata": {},
     "output_type": "execute_result"
    }
   ],
   "source": [
    "import websockets\n",
    "import asyncio\n",
    "\n",
    "messages = []\n",
    "\n",
    "async def listen():\n",
    "    ip_addr = \"193.168.42.1\"\n",
    "    port = \"7891\"\n",
    "    url = \"ws://\" + ip_addr + \":\" + port\n",
    "\n",
    "    async with websockets.connect(url) as ws:\n",
    "        # connect and provide ID - determine the class of listener.\n",
    "        while True:                                     # ID check loop\n",
    "            msg = await ws.recv()                       # Non-blocking, waits for a new message to arrive from the server\n",
    "            if msg == \"ID_REQ\":                         # If the message is an ID Request\n",
    "                my_client_id = 1                        # Fetch this client's ID, in this case it's hardcoded\n",
    "                await ws.send(str(my_client_id))        # Non-blocking, sends the client ID\n",
    "                break                                   # out of ID check loop\n",
    "        \n",
    "        #read a single message then break\n",
    "        messageInd = 1\n",
    "        while True:\n",
    "            msg = await ws.recv()                       # Non-blocking, waits for a new message to arrive from the server\n",
    "            if canDecodeJSON(msg):\n",
    "                msgDict = json.loads(msg)\n",
    "                messages.append(msgDict)\n",
    "                #print(msgDict)\n",
    "                print(json.dumps(msg, indent=5))    \n",
    "                messageInd += 2\n",
    "                if messageInd > 2:\n",
    "                    break\n",
    "        # close out the connection, then return \n",
    "        await ws.close()\n",
    "\n",
    "def canDecodeJSON(string):\n",
    "    try:\n",
    "        _ = json.loads(string)\n",
    "        return True\n",
    "    except:\n",
    "        return False           \n",
    "   \n",
    "\n",
    "listen()\n",
    "    \n",
    "#asyncio.get_event_loop().run_until_complete(listen())  "
   ]
  },
  {
   "cell_type": "code",
   "execution_count": 11,
   "id": "706bb88e",
   "metadata": {},
   "outputs": [
    {
     "ename": "ImportError",
     "evalue": "cannot import name 'asyncio_timeout' from 'websockets.legacy.compatibility' (C:\\Users\\adawsone\\AppData\\Local\\miniconda3\\envs\\ISI\\Lib\\site-packages\\websockets\\legacy\\compatibility.py)",
     "output_type": "error",
     "traceback": [
      "\u001b[1;31m---------------------------------------------------------------------------\u001b[0m",
      "\u001b[1;31mImportError\u001b[0m                               Traceback (most recent call last)",
      "Cell \u001b[1;32mIn[11], line 2\u001b[0m\n\u001b[0;32m      1\u001b[0m \u001b[38;5;28;01mimport\u001b[39;00m \u001b[38;5;21;01masyncio\u001b[39;00m\n\u001b[1;32m----> 2\u001b[0m \u001b[38;5;28;01mfrom\u001b[39;00m \u001b[38;5;21;01mwebsockets\u001b[39;00m\u001b[38;5;21;01m.\u001b[39;00m\u001b[38;5;21;01msync\u001b[39;00m\u001b[38;5;21;01m.\u001b[39;00m\u001b[38;5;21;01mclient\u001b[39;00m \u001b[38;5;28;01mimport\u001b[39;00m connect\n\u001b[0;32m      4\u001b[0m ip_addr \u001b[38;5;241m=\u001b[39m \u001b[38;5;124m\"\u001b[39m\u001b[38;5;124m192.168.42.1\u001b[39m\u001b[38;5;124m\"\u001b[39m\n\u001b[0;32m      5\u001b[0m port \u001b[38;5;241m=\u001b[39m \u001b[38;5;124m\"\u001b[39m\u001b[38;5;124m7890\u001b[39m\u001b[38;5;124m\"\u001b[39m\n",
      "File \u001b[1;32m~\\AppData\\Local\\miniconda3\\envs\\ISI\\Lib\\site-packages\\websockets\\sync\\client.py:8\u001b[0m\n\u001b[0;32m      5\u001b[0m \u001b[38;5;28;01mimport\u001b[39;00m \u001b[38;5;21;01mthreading\u001b[39;00m\n\u001b[0;32m      6\u001b[0m \u001b[38;5;28;01mfrom\u001b[39;00m \u001b[38;5;21;01mtyping\u001b[39;00m \u001b[38;5;28;01mimport\u001b[39;00m Any, Optional, Sequence, Type\n\u001b[1;32m----> 8\u001b[0m \u001b[38;5;28;01mfrom\u001b[39;00m \u001b[38;5;21;01m.\u001b[39;00m\u001b[38;5;21;01m.\u001b[39;00m\u001b[38;5;21;01mclient\u001b[39;00m \u001b[38;5;28;01mimport\u001b[39;00m ClientProtocol\n\u001b[0;32m      9\u001b[0m \u001b[38;5;28;01mfrom\u001b[39;00m \u001b[38;5;21;01m.\u001b[39;00m\u001b[38;5;21;01m.\u001b[39;00m\u001b[38;5;21;01mdatastructures\u001b[39;00m \u001b[38;5;28;01mimport\u001b[39;00m HeadersLike\n\u001b[0;32m     10\u001b[0m \u001b[38;5;28;01mfrom\u001b[39;00m \u001b[38;5;21;01m.\u001b[39;00m\u001b[38;5;21;01m.\u001b[39;00m\u001b[38;5;21;01mextensions\u001b[39;00m\u001b[38;5;21;01m.\u001b[39;00m\u001b[38;5;21;01mbase\u001b[39;00m \u001b[38;5;28;01mimport\u001b[39;00m ClientExtensionFactory\n",
      "File \u001b[1;32m~\\AppData\\Local\\miniconda3\\envs\\ISI\\Lib\\site-packages\\websockets\\client.py:41\u001b[0m\n\u001b[0;32m     37\u001b[0m \u001b[38;5;28;01mfrom\u001b[39;00m \u001b[38;5;21;01m.\u001b[39;00m\u001b[38;5;21;01mutils\u001b[39;00m \u001b[38;5;28;01mimport\u001b[39;00m accept_key, generate_key\n\u001b[0;32m     40\u001b[0m \u001b[38;5;66;03m# See #940 for why lazy_import isn't used here for backwards compatibility.\u001b[39;00m\n\u001b[1;32m---> 41\u001b[0m \u001b[38;5;28;01mfrom\u001b[39;00m \u001b[38;5;21;01m.\u001b[39;00m\u001b[38;5;21;01mlegacy\u001b[39;00m\u001b[38;5;21;01m.\u001b[39;00m\u001b[38;5;21;01mclient\u001b[39;00m \u001b[38;5;28;01mimport\u001b[39;00m \u001b[38;5;241m*\u001b[39m  \u001b[38;5;66;03m# isort:skip  # noqa: I001\u001b[39;00m\n\u001b[0;32m     44\u001b[0m __all__ \u001b[38;5;241m=\u001b[39m [\u001b[38;5;124m\"\u001b[39m\u001b[38;5;124mClientProtocol\u001b[39m\u001b[38;5;124m\"\u001b[39m]\n\u001b[0;32m     47\u001b[0m \u001b[38;5;28;01mclass\u001b[39;00m \u001b[38;5;21;01mClientProtocol\u001b[39;00m(Protocol):\n",
      "File \u001b[1;32m~\\AppData\\Local\\miniconda3\\envs\\ISI\\Lib\\site-packages\\websockets\\legacy\\client.py:47\u001b[0m\n\u001b[0;32m     45\u001b[0m \u001b[38;5;28;01mfrom\u001b[39;00m \u001b[38;5;21;01m.\u001b[39;00m\u001b[38;5;21;01m.\u001b[39;00m\u001b[38;5;21;01mtyping\u001b[39;00m \u001b[38;5;28;01mimport\u001b[39;00m ExtensionHeader, LoggerLike, Origin, Subprotocol\n\u001b[0;32m     46\u001b[0m \u001b[38;5;28;01mfrom\u001b[39;00m \u001b[38;5;21;01m.\u001b[39;00m\u001b[38;5;21;01m.\u001b[39;00m\u001b[38;5;21;01muri\u001b[39;00m \u001b[38;5;28;01mimport\u001b[39;00m WebSocketURI, parse_uri\n\u001b[1;32m---> 47\u001b[0m \u001b[38;5;28;01mfrom\u001b[39;00m \u001b[38;5;21;01m.\u001b[39;00m\u001b[38;5;21;01mcompatibility\u001b[39;00m \u001b[38;5;28;01mimport\u001b[39;00m asyncio_timeout\n\u001b[0;32m     48\u001b[0m \u001b[38;5;28;01mfrom\u001b[39;00m \u001b[38;5;21;01m.\u001b[39;00m\u001b[38;5;21;01mhandshake\u001b[39;00m \u001b[38;5;28;01mimport\u001b[39;00m build_request, check_response\n\u001b[0;32m     49\u001b[0m \u001b[38;5;28;01mfrom\u001b[39;00m \u001b[38;5;21;01m.\u001b[39;00m\u001b[38;5;21;01mhttp\u001b[39;00m \u001b[38;5;28;01mimport\u001b[39;00m read_response\n",
      "\u001b[1;31mImportError\u001b[0m: cannot import name 'asyncio_timeout' from 'websockets.legacy.compatibility' (C:\\Users\\adawsone\\AppData\\Local\\miniconda3\\envs\\ISI\\Lib\\site-packages\\websockets\\legacy\\compatibility.py)"
     ]
    }
   ],
   "source": [
    "import asyncio\n",
    "from websockets.sync.client import connect\n",
    "\n",
    "ip_addr = \"192.168.42.1\"\n",
    "port = \"7890\"\n",
    "url = \"ws://\" + ip_addr + \":\" + port\n",
    "\n",
    "\n",
    "def hello():\n",
    "    with connect(url) as ws:\n",
    "        msg = ws.recv()\n",
    "        if msg == \"ID_REQ\":                         # If the message is an ID Request\n",
    "            my_client_id = 1                        # Fetch this client's ID, in this case it's hardcoded\n",
    "            ws.send(str(my_client_id))\n",
    "        msg = ws.recv()\n",
    "        print(msg)\n",
    "        ws.close()\n",
    "\n",
    "\n",
    "hello()\n"
   ]
  },
  {
   "cell_type": "code",
   "execution_count": null,
   "id": "0b576b80",
   "metadata": {},
   "outputs": [],
   "source": [
    "import asyncio\n",
    "from websockets.sync.client import connect\n",
    "\n",
    "def hello():\n",
    "    with connect(\"ws://localhost:8765\") as websocket:\n",
    "        websocket.send(\"Hello world!\")\n",
    "        message = websocket.recv()\n",
    "        print(f\"Received: {message}\")\n",
    "\n",
    "hello()"
   ]
  },
  {
   "cell_type": "code",
   "execution_count": 9,
   "id": "34a0c22f",
   "metadata": {},
   "outputs": [
    {
     "ename": "ModuleNotFoundError",
     "evalue": "No module named 'websockets.sync'",
     "output_type": "error",
     "traceback": [
      "\u001b[1;31m---------------------------------------------------------------------------\u001b[0m",
      "\u001b[1;31mModuleNotFoundError\u001b[0m                       Traceback (most recent call last)",
      "Cell \u001b[1;32mIn[9], line 1\u001b[0m\n\u001b[1;32m----> 1\u001b[0m \u001b[38;5;28;01mfrom\u001b[39;00m \u001b[38;5;21;01mwebsockets\u001b[39;00m\u001b[38;5;21;01m.\u001b[39;00m\u001b[38;5;21;01msync\u001b[39;00m\u001b[38;5;21;01m.\u001b[39;00m\u001b[38;5;21;01mclient\u001b[39;00m \u001b[38;5;28;01mimport\u001b[39;00m connect\n",
      "\u001b[1;31mModuleNotFoundError\u001b[0m: No module named 'websockets.sync'"
     ]
    }
   ],
   "source": [
    "from websockets.sync.client import connect"
   ]
  }
 ],
 "metadata": {
  "kernelspec": {
   "display_name": "Python 3 (ipykernel)",
   "language": "python",
   "name": "python3"
  },
  "language_info": {
   "codemirror_mode": {
    "name": "ipython",
    "version": 3
   },
   "file_extension": ".py",
   "mimetype": "text/x-python",
   "name": "python",
   "nbconvert_exporter": "python",
   "pygments_lexer": "ipython3",
   "version": "3.11.3"
  }
 },
 "nbformat": 4,
 "nbformat_minor": 5
}
